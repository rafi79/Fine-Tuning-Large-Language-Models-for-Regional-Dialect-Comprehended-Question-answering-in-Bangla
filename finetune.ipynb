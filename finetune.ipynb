from src.fine_tuning import LoRAFineTuner

# Initialize fine-tuner for Gemma-2-9B
fine_tuner = LoRAFineTuner(
    model_name="google/gemma-2-9b",
    lora_config={
        "r": 16,
        "lora_alpha": 32,
        "target_modules": ["q_proj", "v_proj"],
        "lora_dropout": 0.1
    }
)

# Fine-tune the model
fine_tuner.train(train_data, val_data, epochs=3)
